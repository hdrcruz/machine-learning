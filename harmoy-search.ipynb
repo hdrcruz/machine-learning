{
  "nbformat": 4,
  "nbformat_minor": 0,
  "metadata": {
    "kernelspec": {
      "display_name": "Python 3",
      "language": "python",
      "name": "python3"
    },
    "language_info": {
      "codemirror_mode": {
        "name": "ipython",
        "version": 3
      },
      "file_extension": ".py",
      "mimetype": "text/x-python",
      "name": "python",
      "nbconvert_exporter": "python",
      "pygments_lexer": "ipython3",
      "version": "3.7.4"
    },
    "colab": {
      "name": "hs.ipynb",
      "provenance": [],
      "collapsed_sections": [],
      "include_colab_link": true
    }
  },
  "cells": [
    {
      "cell_type": "markdown",
      "metadata": {
        "id": "view-in-github",
        "colab_type": "text"
      },
      "source": [
        "<a href=\"https://colab.research.google.com/github/hdrcruz/machine-learning/blob/main/harmoy-search.ipynb\" target=\"_parent\"><img src=\"https://colab.research.google.com/assets/colab-badge.svg\" alt=\"Open In Colab\"/></a>"
      ]
    },
    {
      "cell_type": "markdown",
      "metadata": {
        "id": "y7Fj0WwUU1TH"
      },
      "source": [
        "# Importando Bibliotecas\n",
        "\n"
      ]
    },
    {
      "cell_type": "code",
      "metadata": {
        "id": "7fXw2PZbVCRH"
      },
      "source": [
        "import numpy as np\n",
        "import pandas as pd\n",
        "import networkx as nx\n",
        "import random"
      ],
      "execution_count": null,
      "outputs": []
    },
    {
      "cell_type": "markdown",
      "metadata": {
        "id": "HMWTwOOZUgAi"
      },
      "source": [
        "# Gerando Grafo\n"
      ]
    },
    {
      "cell_type": "code",
      "metadata": {
        "id": "p_2BrD0pUx3_"
      },
      "source": [
        "nodes = 20\n",
        "colors = ['r','b','g', 'y', 'c']\n",
        "colors_prob = [0.2, 0.2, 0.2, 0.2, 0.2, ]\n",
        "\n",
        "G = nx.complete_graph(nodes)\n",
        "for edge in G.edges():\n",
        "    G.edges[edge]['color'] = np.random.choice(colors, p = colors_prob)\n",
        "df = nx.to_pandas_edgelist(G)"
      ],
      "execution_count": null,
      "outputs": []
    },
    {
      "cell_type": "markdown",
      "metadata": {
        "id": "WF6JNBtgu6LL"
      },
      "source": [
        "# Definindo parâmetros do algoritmo"
      ]
    },
    {
      "cell_type": "code",
      "metadata": {
        "id": "5jxXavIq3Y1B"
      },
      "source": [
        "harmony_memory_size = 200 #quantidade de soluções na memória\n",
        "harmony_consideration_rate = 0.7 #probabilidade de usar uma solução já existente\n",
        "\n",
        "pitch_adjustment_rate = 0.5\n",
        "bandwitch_adjustment = 2\n",
        "\n",
        "max_imp = 10000\n",
        "n_variables = nx.number_of_nodes(G) - 1 #Tamanho dos atributos de uma solução"
      ],
      "execution_count": null,
      "outputs": []
    },
    {
      "cell_type": "markdown",
      "metadata": {
        "id": "lZE54OjkvFdi"
      },
      "source": [
        "# Implementando Algoritmo"
      ]
    },
    {
      "cell_type": "code",
      "metadata": {
        "id": "A-xyaF0C8Gr7"
      },
      "source": [
        "def objective_function(harmony): #retorna quantidade de rótulos unicos na harmonia\n",
        "  labels = df.loc[harmony]['color'].unique()\n",
        "  G = nx.from_pandas_edgelist(df.loc[harmony])\n",
        "  is_tree = nx.is_tree(G)\n",
        "  penalty = 0 if is_tree else 10\n",
        "  return (len(labels) + penalty)\n",
        "    \n",
        "def get_note(harmony): #seleciona aleatoriamente uma aresta\n",
        "    #restrição 1: Não pode selecionar uma aresta já existente\n",
        "    available_edges = list(i for i in range(0,len(df.index)) if i not in [harmony])\n",
        "    return random.choice(available_edges)\n",
        "    \n",
        "def adjust_note(note:int, bandwitch_adjustment: int):\n",
        "    return note\n",
        "    \n",
        "\n",
        "def new_harmony(harmony_memory, harmony_consideration_rate:float, n_variables:int, pitch_adjustment_rate: float, bandwitch_adjustment: int):\n",
        "    new_harmony = list()\n",
        "    for i in range(n_variables):\n",
        "        r = random.random()\n",
        "        if (r <= harmony_consideration_rate):\n",
        "            new_harmony.append(random.choice(list(harmony_memory['edge ' + str(i)])))\n",
        "            k = random.random()\n",
        "            if (k <= pitch_adjustment_rate):\n",
        "                new_harmony[i] = get_note(new_harmony)\n",
        "        else:\n",
        "           new_harmony.append(get_note(new_harmony)) #seleciona aleatoriamente uma aresta\n",
        "    return new_harmony\n",
        "\n",
        "def harmony_search():\n",
        "    columns=['edge ' + str(x) for x in range(n_variables)] + ['value']\n",
        "    hm = []\n",
        "    for _ in range(harmony_memory_size):\n",
        "        ih = random.choices(range(0,len(df.index)),k=n_variables)\n",
        "        ih.append(objective_function(ih))\n",
        "        hm.append(ih)      \n",
        "    harmony_memory = pd.DataFrame(data=hm, columns=columns)\n",
        "    for _ in range(max_imp):\n",
        "      nh = new_harmony(harmony_memory, harmony_consideration_rate, n_variables, pitch_adjustment_rate, bandwitch_adjustment)\n",
        "      nh.append(objective_function(nh))\n",
        "      nh_pandas = pd.Series(data=nh, index=harmony_memory.columns)\n",
        "      harmony_memory = harmony_memory.append(nh_pandas, ignore_index=True)\n",
        "      harmony_memory.sort_values('value', inplace=True)\n",
        "      harmony_memory.reset_index(drop=True, inplace=True)\n",
        "      harmony_memory.drop(harmony_memory.index[-1], inplace=True)\n",
        "    return list(harmony_memory.iloc[0,0:n_variables])"
      ],
      "execution_count": null,
      "outputs": []
    },
    {
      "cell_type": "markdown",
      "metadata": {
        "id": "CwcUhgf-vT8N"
      },
      "source": [
        "# Execução"
      ]
    },
    {
      "cell_type": "code",
      "metadata": {
        "colab": {
          "base_uri": "https://localhost:8080/",
          "height": 670
        },
        "id": "47LpjknzvQtz",
        "outputId": "600b531f-cbc0-4930-bcb3-3bd5de8e189b"
      },
      "source": [
        "res_df = df.loc[harmony_search()]\n",
        "print('Melhor solução encontrada: ')\n",
        "print(res_df)\n",
        "print('Labels: ')\n",
        "print(res_df.color.unique())\n",
        "lolG = nx.from_pandas_edgelist(res_df, edge_attr=True)\n",
        "nx.draw_networkx(lolG)"
      ],
      "execution_count": null,
      "outputs": [
        {
          "output_type": "stream",
          "name": "stdout",
          "text": [
            "Melhor solução encontrada: \n",
            "     source  target color\n",
            "47        2      13     g\n",
            "80        4      15     r\n",
            "102       6      10     c\n",
            "101       6       9     c\n",
            "74        4       9     r\n",
            "132       8      17     r\n",
            "161      11      19     g\n",
            "48        2      14     r\n",
            "58        3       8     r\n",
            "10        0      11     c\n",
            "70        4       5     c\n",
            "15        0      16     g\n",
            "143       9      18     c\n",
            "77        4      12     c\n",
            "141       9      16     g\n",
            "62        3      12     g\n",
            "92        5      13     g\n",
            "92        5      13     g\n",
            "92        5      13     g\n",
            "Labels: \n",
            "['g' 'r' 'c']\n"
          ]
        },
        {
          "output_type": "display_data",
          "data": {
            "image/png": "[encoded data removed]",
            "text/plain": [
              "<Figure size 432x288 with 1 Axes>"
            ]
          },
          "metadata": {}
        }
      ]
    }
  ]
}